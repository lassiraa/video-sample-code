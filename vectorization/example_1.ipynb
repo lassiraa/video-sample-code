{
 "cells": [
  {
   "cell_type": "code",
   "execution_count": 56,
   "metadata": {},
   "outputs": [
    {
     "data": {
      "text/html": [
       "<div>\n",
       "<style scoped>\n",
       "    .dataframe tbody tr th:only-of-type {\n",
       "        vertical-align: middle;\n",
       "    }\n",
       "\n",
       "    .dataframe tbody tr th {\n",
       "        vertical-align: top;\n",
       "    }\n",
       "\n",
       "    .dataframe thead th {\n",
       "        text-align: right;\n",
       "    }\n",
       "</style>\n",
       "<table border=\"1\" class=\"dataframe\">\n",
       "  <thead>\n",
       "    <tr style=\"text-align: right;\">\n",
       "      <th></th>\n",
       "      <th>dateStr</th>\n",
       "      <th>value</th>\n",
       "    </tr>\n",
       "  </thead>\n",
       "  <tbody>\n",
       "    <tr>\n",
       "      <th>0</th>\n",
       "      <td>2000-01-01 00:00:00</td>\n",
       "      <td>90</td>\n",
       "    </tr>\n",
       "    <tr>\n",
       "      <th>1</th>\n",
       "      <td>2000-01-02 00:00:00</td>\n",
       "      <td>26</td>\n",
       "    </tr>\n",
       "    <tr>\n",
       "      <th>2</th>\n",
       "      <td>2000-01-03 00:00:00</td>\n",
       "      <td>66</td>\n",
       "    </tr>\n",
       "    <tr>\n",
       "      <th>3</th>\n",
       "      <td>2000-01-04 00:00:00</td>\n",
       "      <td>28</td>\n",
       "    </tr>\n",
       "    <tr>\n",
       "      <th>4</th>\n",
       "      <td>2000-01-05 00:00:00</td>\n",
       "      <td>27</td>\n",
       "    </tr>\n",
       "    <tr>\n",
       "      <th>...</th>\n",
       "      <td>...</td>\n",
       "      <td>...</td>\n",
       "    </tr>\n",
       "    <tr>\n",
       "      <th>8333</th>\n",
       "      <td>2022-10-25 00:00:00</td>\n",
       "      <td>28</td>\n",
       "    </tr>\n",
       "    <tr>\n",
       "      <th>8334</th>\n",
       "      <td>2022-10-26 00:00:00</td>\n",
       "      <td>85</td>\n",
       "    </tr>\n",
       "    <tr>\n",
       "      <th>8335</th>\n",
       "      <td>2022-10-27 00:00:00</td>\n",
       "      <td>46</td>\n",
       "    </tr>\n",
       "    <tr>\n",
       "      <th>8336</th>\n",
       "      <td>2022-10-28 00:00:00</td>\n",
       "      <td>90</td>\n",
       "    </tr>\n",
       "    <tr>\n",
       "      <th>8337</th>\n",
       "      <td>2022-10-29 00:00:00</td>\n",
       "      <td>15</td>\n",
       "    </tr>\n",
       "  </tbody>\n",
       "</table>\n",
       "<p>8338 rows × 2 columns</p>\n",
       "</div>"
      ],
      "text/plain": [
       "                  dateStr  value\n",
       "0     2000-01-01 00:00:00     90\n",
       "1     2000-01-02 00:00:00     26\n",
       "2     2000-01-03 00:00:00     66\n",
       "3     2000-01-04 00:00:00     28\n",
       "4     2000-01-05 00:00:00     27\n",
       "...                   ...    ...\n",
       "8333  2022-10-25 00:00:00     28\n",
       "8334  2022-10-26 00:00:00     85\n",
       "8335  2022-10-27 00:00:00     46\n",
       "8336  2022-10-28 00:00:00     90\n",
       "8337  2022-10-29 00:00:00     15\n",
       "\n",
       "[8338 rows x 2 columns]"
      ]
     },
     "execution_count": 56,
     "metadata": {},
     "output_type": "execute_result"
    }
   ],
   "source": [
    "import pandas as pd\n",
    "import numpy as np\n",
    "from datetime import datetime, timedelta\n",
    "\n",
    "start_date = datetime(2000, 1, 1)\n",
    "delta = datetime.today() - start_date\n",
    "df = pd.DataFrame(\n",
    "    {\n",
    "        'dateStr': [str(start_date + timedelta(days=i)) for i in range(delta.days)],\n",
    "        'value': np.random.randint(100, size=delta.days)\n",
    "    }\n",
    ")\n",
    "df"
   ]
  },
  {
   "cell_type": "code",
   "execution_count": 71,
   "metadata": {},
   "outputs": [],
   "source": [
    "def get_day_of_week(to_parse: str):\n",
    "    return datetime.strptime(to_parse, '%Y-%m-%d %H:%M:%S').strftime('%A')"
   ]
  },
  {
   "cell_type": "code",
   "execution_count": 77,
   "metadata": {},
   "outputs": [
    {
     "name": "stdout",
     "output_type": "stream",
     "text": [
      "2.38 s ± 114 ms per loop (mean ± std. dev. of 10 runs, 1 loop each)\n"
     ]
    }
   ],
   "source": [
    "def convert_date_iterrows(df) -> None:\n",
    "    df['weekday'] = ''\n",
    "    for idx, row in df.iterrows():\n",
    "        df.loc[idx, 'weekday'] = get_day_of_week(row['dateStr'])\n",
    "\n",
    "\n",
    "%timeit -r 10 -n 1 convert_date_iterrows(df)"
   ]
  },
  {
   "cell_type": "code",
   "execution_count": 73,
   "metadata": {},
   "outputs": [
    {
     "name": "stdout",
     "output_type": "stream",
     "text": [
      "1.86 s ± 18.3 ms per loop (mean ± std. dev. of 10 runs, 1 loop each)\n"
     ]
    }
   ],
   "source": [
    "def convert_date_to_dict(df: pd.DataFrame) -> None:\n",
    "    df['weekday'] = ''\n",
    "    for idx, row in enumerate(df.to_dict(orient='records')):\n",
    "        df.loc[idx, 'weekday'] = get_day_of_week(row['dateStr'])\n",
    "\n",
    "\n",
    "%timeit -r 10 -n 1 convert_date_to_dict(df)"
   ]
  },
  {
   "cell_type": "code",
   "execution_count": 74,
   "metadata": {},
   "outputs": [
    {
     "name": "stdout",
     "output_type": "stream",
     "text": [
      "98.2 ms ± 4.86 ms per loop (mean ± std. dev. of 10 runs, 1 loop each)\n"
     ]
    }
   ],
   "source": [
    "def convert_date_apply(df: pd.DataFrame) -> None:\n",
    "    df['weekday'] = df['dateStr'].apply(lambda x: get_day_of_week(x))\n",
    "\n",
    "%timeit -r 10 -n 1 convert_date_apply(df)"
   ]
  },
  {
   "cell_type": "code",
   "execution_count": 75,
   "metadata": {},
   "outputs": [],
   "source": [
    "df['date'] = df['dateStr'].astype('datetime64[ns]')"
   ]
  },
  {
   "cell_type": "code",
   "execution_count": 76,
   "metadata": {},
   "outputs": [
    {
     "name": "stdout",
     "output_type": "stream",
     "text": [
      "1.81 ms ± 274 µs per loop (mean ± std. dev. of 10 runs, 1 loop each)\n"
     ]
    }
   ],
   "source": [
    "def convert_date_native(df: pd.DataFrame) -> None:\n",
    "    df['weekday'] = df['date'].dt.day_name()\n",
    "\n",
    "%timeit -r 10 -n 1 convert_date_native(df)"
   ]
  },
  {
   "cell_type": "code",
   "execution_count": null,
   "metadata": {},
   "outputs": [],
   "source": []
  }
 ],
 "metadata": {
  "kernelspec": {
   "display_name": "Python 3.9.7 ('ml')",
   "language": "python",
   "name": "python3"
  },
  "language_info": {
   "codemirror_mode": {
    "name": "ipython",
    "version": 3
   },
   "file_extension": ".py",
   "mimetype": "text/x-python",
   "name": "python",
   "nbconvert_exporter": "python",
   "pygments_lexer": "ipython3",
   "version": "3.9.7"
  },
  "orig_nbformat": 4,
  "vscode": {
   "interpreter": {
    "hash": "1940acaabb7d12c51b48fac30f1c0052462401aa47c9cb2fc2cfb0c67640d1b7"
   }
  }
 },
 "nbformat": 4,
 "nbformat_minor": 2
}
